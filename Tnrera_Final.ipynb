{
 "cells": [
  {
   "cell_type": "code",
   "execution_count": 1,
   "metadata": {},
   "outputs": [],
   "source": [
    "import pandas as pd\n"
   ]
  },
  {
   "cell_type": "code",
   "execution_count": 2,
   "metadata": {},
   "outputs": [],
   "source": [
    "tnd1=pd.read_excel('tnrera2017.xlsx',index=False)\n",
    "tnd2=pd.read_excel('tnrera2018.xlsx',index=False)\n",
    "tnd3=pd.read_excel('tnrera2019.xlsx',index=False)\n",
    "tnd4=pd.read_excel('tnrera2020.xlsx',index=False)"
   ]
  },
  {
   "cell_type": "code",
   "execution_count": 3,
   "metadata": {},
   "outputs": [],
   "source": [
    "tnd2=tnd2.append(tnd1,ignore_index=True)\n",
    "tnd3=tnd3.append(tnd2,ignore_index=True)\n",
    "tnd4=tnd4.append(tnd3,ignore_index=True)\n",
    "tnrera=tnd4"
   ]
  },
  {
   "cell_type": "code",
   "execution_count": 4,
   "metadata": {},
   "outputs": [],
   "source": [
    "pd.set_option('display.max_columns',8)"
   ]
  },
  {
   "cell_type": "code",
   "execution_count": 5,
   "metadata": {},
   "outputs": [],
   "source": [
    "bool_ongoing2021=(tnrera['PROJECT COMPLETION DATE'].str.contains('2020')==True) | (tnrera['PROJECT COMPLETION DATE'].str.contains('2021')==True)"
   ]
  },
  {
   "cell_type": "code",
   "execution_count": 6,
   "metadata": {},
   "outputs": [],
   "source": [
    "ongoing2021=tnrera[bool_ongoing2021]"
   ]
  },
  {
   "cell_type": "code",
   "execution_count": 7,
   "metadata": {},
   "outputs": [
    {
     "name": "stdout",
     "output_type": "stream",
     "text": [
      "Enter the Citysalem\n",
      "Do you want to save the Reg.NO y/n:n\n",
      "Do you want to save the city file y/n:y\n"
     ]
    }
   ],
   "source": [
    "inputcity=str(input('Enter the City'))\n",
    "input_city=inputcity.title()\n",
    "option_reg=input('Do you want to save the Reg.NO y/n:')\n",
    "option_city=input('Do you want to save the city file y/n:')\n",
    "filename=input_city+'.csv'"
   ]
  },
  {
   "cell_type": "code",
   "execution_count": 8,
   "metadata": {},
   "outputs": [],
   "source": [
    "city=(ongoing2021['PROJECT DETAILS AND ADDRESS'].str.contains(input_city)==True) & (ongoing2021['CURRENT STATUS OF THE PROJECT'] !='Completed')&(ongoing2021['NAME AND ADDRESS OF THE PROMOTER'].str.contains('The Executive Engineer')==False)&(ongoing2021['NAME AND ADDRESS OF THE PROMOTER'].str.contains('THE EXECUTIVE ENGINEER')==False)"
   ]
  },
  {
   "cell_type": "code",
   "execution_count": 9,
   "metadata": {},
   "outputs": [],
   "source": [
    "comp_city=ongoing2021[city]"
   ]
  },
  {
   "cell_type": "code",
   "execution_count": 10,
   "metadata": {},
   "outputs": [],
   "source": [
    "if(option_city)=='y':\n",
    "    comp_city.to_csv(filename,index=False)"
   ]
  },
  {
   "cell_type": "code",
   "execution_count": 11,
   "metadata": {},
   "outputs": [],
   "source": [
    "if(option_reg=='y'):\n",
    "    filename=input_city+'RegNo.csv'\n",
    "    a=comp_city['PROJECT REGISTRATION NO.']\n",
    "    a=pd.DataFrame(a)\n",
    "    re=a.to_csv(filename,index=False)"
   ]
  },
  {
   "cell_type": "code",
   "execution_count": 19,
   "metadata": {},
   "outputs": [
    {
     "ename": "NameError",
     "evalue": "name 'a' is not defined",
     "output_type": "error",
     "traceback": [
      "\u001b[1;31m---------------------------------------------------------------------------\u001b[0m",
      "\u001b[1;31mNameError\u001b[0m                                 Traceback (most recent call last)",
      "\u001b[1;32m<ipython-input-19-b66e91cddaed>\u001b[0m in \u001b[0;36m<module>\u001b[1;34m\u001b[0m\n\u001b[1;32m----> 1\u001b[1;33m \u001b[0ma\u001b[0m\u001b[1;33m=\u001b[0m\u001b[0mpd\u001b[0m\u001b[1;33m.\u001b[0m\u001b[0mDataFrame\u001b[0m\u001b[1;33m(\u001b[0m\u001b[0ma\u001b[0m\u001b[1;33m)\u001b[0m\u001b[1;33m\u001b[0m\u001b[1;33m\u001b[0m\u001b[0m\n\u001b[0m\u001b[0;32m      2\u001b[0m \u001b[0mcomp_city\u001b[0m\u001b[1;33m.\u001b[0m\u001b[0mset_index\u001b[0m\u001b[1;33m(\u001b[0m\u001b[1;34m'SNO'\u001b[0m\u001b[1;33m,\u001b[0m\u001b[0minplace\u001b[0m\u001b[1;33m=\u001b[0m\u001b[1;32mTrue\u001b[0m\u001b[1;33m)\u001b[0m\u001b[1;33m\u001b[0m\u001b[1;33m\u001b[0m\u001b[0m\n",
      "\u001b[1;31mNameError\u001b[0m: name 'a' is not defined"
     ]
    }
   ],
   "source": [
    "a=pd.DataFrame(a)\n",
    "comp_city.set_index('SNO',inplace=True)"
   ]
  },
  {
   "cell_type": "code",
   "execution_count": 13,
   "metadata": {},
   "outputs": [
    {
     "data": {
      "text/html": [
       "<div>\n",
       "<style scoped>\n",
       "    .dataframe tbody tr th:only-of-type {\n",
       "        vertical-align: middle;\n",
       "    }\n",
       "\n",
       "    .dataframe tbody tr th {\n",
       "        vertical-align: top;\n",
       "    }\n",
       "\n",
       "    .dataframe thead th {\n",
       "        text-align: right;\n",
       "    }\n",
       "</style>\n",
       "<table border=\"1\" class=\"dataframe\">\n",
       "  <thead>\n",
       "    <tr style=\"text-align: right;\">\n",
       "      <th></th>\n",
       "      <th>PROJECT REGISTRATION NO.</th>\n",
       "      <th>NAME AND ADDRESS OF THE PROMOTER</th>\n",
       "      <th>PROJECT DETAILS AND ADDRESS</th>\n",
       "      <th>APPROVAL DETAILS</th>\n",
       "      <th>PROJECT COMPLETION DATE</th>\n",
       "      <th>OTHER DETAILS</th>\n",
       "      <th>CURRENT STATUS OF THE PROJECT</th>\n",
       "    </tr>\n",
       "    <tr>\n",
       "      <th>SNO</th>\n",
       "      <th></th>\n",
       "      <th></th>\n",
       "      <th></th>\n",
       "      <th></th>\n",
       "      <th></th>\n",
       "      <th></th>\n",
       "      <th></th>\n",
       "    </tr>\n",
       "  </thead>\n",
       "  <tbody>\n",
       "    <tr>\n",
       "      <td>445</td>\n",
       "      <td>TN/07/Building/0228/2019 dated 13/12/2019</td>\n",
       "      <td>M/s. VARMA CONSTRUCTIONS (P) LTD., Vijay Tower...</td>\n",
       "      <td>Project Name: \"Mirdhu Inn Phase-I\" - Construct...</td>\n",
       "      <td>Approved by Member-Secretary/Salem LPA vide le...</td>\n",
       "      <td>12.05.2021</td>\n",
       "      <td>Promoter Details--&gt; Project Details--&gt; Promote...</td>\n",
       "      <td>NaN</td>\n",
       "    </tr>\n",
       "    <tr>\n",
       "      <td>453</td>\n",
       "      <td>TN/07/Building/0235/2019 dated 19/12/2019</td>\n",
       "      <td>M/s. VARMA CONSTRUCTIONS (P) LTD., Vijaya Towe...</td>\n",
       "      <td>Project Name: “Mirdhu Inn Phase-II” - Construc...</td>\n",
       "      <td>Planning Permission issued by Member-Secretary...</td>\n",
       "      <td>May 2020</td>\n",
       "      <td>Promoter Details--&gt; Project Details--&gt; Promote...</td>\n",
       "      <td>NaN</td>\n",
       "    </tr>\n",
       "    <tr>\n",
       "      <td>94</td>\n",
       "      <td>TN/07/Building/0073/2018 dated 28/02/2018</td>\n",
       "      <td>M/s. SHREE VELU BUILDERS (P) LTD., 32/26, Rama...</td>\n",
       "      <td>Construction of Phase-I – Block ‘D’ – Tower-I ...</td>\n",
       "      <td>Approved by the Member-Secretary (i/c), Salem ...</td>\n",
       "      <td>December 2021</td>\n",
       "      <td>Promoter Details--&gt; Project Details--&gt; Promote...</td>\n",
       "      <td>Progress of Work as on December 2019</td>\n",
       "    </tr>\n",
       "    <tr>\n",
       "      <td>278</td>\n",
       "      <td>TN/07/Building/0211/2018 dated 28/06/2018</td>\n",
       "      <td>Tmt. J.SARASWATHI, Door No.5-120, A4, Ganapath...</td>\n",
       "      <td>Construction of Stilt floor + 4 floors residen...</td>\n",
       "      <td>Approved by the Member-Secretary (i/c.), Salem...</td>\n",
       "      <td>02.05.2020</td>\n",
       "      <td>Promoter Details Project Details Approval Deta...</td>\n",
       "      <td>Progress of Work as on December 2019</td>\n",
       "    </tr>\n",
       "    <tr>\n",
       "      <td>480</td>\n",
       "      <td>TN/07/Building/0332/2018 dated 08/11/2018</td>\n",
       "      <td>Thiru. D.J.RAJENDRAN – Proprietor, M/s. Vijaya...</td>\n",
       "      <td>Project Name: “Mahaveer Palace Apartment” - Co...</td>\n",
       "      <td>Approved by the Commissioner, Town and Country...</td>\n",
       "      <td>31.10.2021</td>\n",
       "      <td>Promoter Details--&gt; Project Details--&gt; Promote...</td>\n",
       "      <td>Progress of Work as on December 2019</td>\n",
       "    </tr>\n",
       "    <tr>\n",
       "      <td>485</td>\n",
       "      <td>TN/07/Building/0334/2018 dated 12/11/2018</td>\n",
       "      <td>M/s. SHREE RAJAGANAPATHY FOUNDATION, No.7/3, U...</td>\n",
       "      <td>Construction of Stilt floor + 4 floors residen...</td>\n",
       "      <td>Approved by the Member-Secretary, Salem LPA Pl...</td>\n",
       "      <td>31.03.2019 - 1. Extension given upto 30.09.201...</td>\n",
       "      <td>Promoter Details Project Details Promoter &amp; Pr...</td>\n",
       "      <td>Progress of Work as on December 2019</td>\n",
       "    </tr>\n",
       "  </tbody>\n",
       "</table>\n",
       "</div>"
      ],
      "text/plain": [
       "                      PROJECT REGISTRATION NO.  \\\n",
       "SNO                                              \n",
       "445  TN/07/Building/0228/2019 dated 13/12/2019   \n",
       "453  TN/07/Building/0235/2019 dated 19/12/2019   \n",
       "94   TN/07/Building/0073/2018 dated 28/02/2018   \n",
       "278  TN/07/Building/0211/2018 dated 28/06/2018   \n",
       "480  TN/07/Building/0332/2018 dated 08/11/2018   \n",
       "485  TN/07/Building/0334/2018 dated 12/11/2018   \n",
       "\n",
       "                      NAME AND ADDRESS OF THE PROMOTER  \\\n",
       "SNO                                                      \n",
       "445  M/s. VARMA CONSTRUCTIONS (P) LTD., Vijay Tower...   \n",
       "453  M/s. VARMA CONSTRUCTIONS (P) LTD., Vijaya Towe...   \n",
       "94   M/s. SHREE VELU BUILDERS (P) LTD., 32/26, Rama...   \n",
       "278  Tmt. J.SARASWATHI, Door No.5-120, A4, Ganapath...   \n",
       "480  Thiru. D.J.RAJENDRAN – Proprietor, M/s. Vijaya...   \n",
       "485  M/s. SHREE RAJAGANAPATHY FOUNDATION, No.7/3, U...   \n",
       "\n",
       "                           PROJECT DETAILS AND ADDRESS  \\\n",
       "SNO                                                      \n",
       "445  Project Name: \"Mirdhu Inn Phase-I\" - Construct...   \n",
       "453  Project Name: “Mirdhu Inn Phase-II” - Construc...   \n",
       "94   Construction of Phase-I – Block ‘D’ – Tower-I ...   \n",
       "278  Construction of Stilt floor + 4 floors residen...   \n",
       "480  Project Name: “Mahaveer Palace Apartment” - Co...   \n",
       "485  Construction of Stilt floor + 4 floors residen...   \n",
       "\n",
       "                                      APPROVAL DETAILS  \\\n",
       "SNO                                                      \n",
       "445  Approved by Member-Secretary/Salem LPA vide le...   \n",
       "453  Planning Permission issued by Member-Secretary...   \n",
       "94   Approved by the Member-Secretary (i/c), Salem ...   \n",
       "278  Approved by the Member-Secretary (i/c.), Salem...   \n",
       "480  Approved by the Commissioner, Town and Country...   \n",
       "485  Approved by the Member-Secretary, Salem LPA Pl...   \n",
       "\n",
       "                               PROJECT COMPLETION DATE  \\\n",
       "SNO                                                      \n",
       "445                                         12.05.2021   \n",
       "453                                           May 2020   \n",
       "94                                       December 2021   \n",
       "278                                         02.05.2020   \n",
       "480                                         31.10.2021   \n",
       "485  31.03.2019 - 1. Extension given upto 30.09.201...   \n",
       "\n",
       "                                         OTHER DETAILS  \\\n",
       "SNO                                                      \n",
       "445  Promoter Details--> Project Details--> Promote...   \n",
       "453  Promoter Details--> Project Details--> Promote...   \n",
       "94   Promoter Details--> Project Details--> Promote...   \n",
       "278  Promoter Details Project Details Approval Deta...   \n",
       "480  Promoter Details--> Project Details--> Promote...   \n",
       "485  Promoter Details Project Details Promoter & Pr...   \n",
       "\n",
       "            CURRENT STATUS OF THE PROJECT  \n",
       "SNO                                        \n",
       "445                                   NaN  \n",
       "453                                   NaN  \n",
       "94   Progress of Work as on December 2019  \n",
       "278  Progress of Work as on December 2019  \n",
       "480  Progress of Work as on December 2019  \n",
       "485  Progress of Work as on December 2019  "
      ]
     },
     "execution_count": 13,
     "metadata": {},
     "output_type": "execute_result"
    }
   ],
   "source": [
    "comp_city"
   ]
  },
  {
   "cell_type": "code",
   "execution_count": 23,
   "metadata": {},
   "outputs": [
    {
     "data": {
      "text/plain": [
       "6"
      ]
     },
     "execution_count": 23,
     "metadata": {},
     "output_type": "execute_result"
    }
   ],
   "source": [
    "i=comp_city.shape\n",
    "n=list(i)\n",
    "n=n[0]"
   ]
  },
  {
   "cell_type": "code",
   "execution_count": 15,
   "metadata": {},
   "outputs": [
    {
     "name": "stdout",
     "output_type": "stream",
     "text": [
      "M/s. VARMA CONSTRUCTIONS (P) LTD., Vijay Tower, 6B, Kitchipalayam Main Road, Salem – 636001.\n",
      "---------------------------------------------------\n",
      "M/s. VARMA CONSTRUCTIONS (P) LTD., Vijaya Tower, 68, Kitchipalayam Main Road, Salem – 636001.\n",
      "---------------------------------------------------\n",
      "M/s. SHREE VELU BUILDERS (P) LTD., 32/26, Ramasamy Street, T.Nagar, Chennai – 600017.\n",
      "---------------------------------------------------\n",
      "Tmt. J.SARASWATHI, Door No.5-120, A4, Ganapathi Nagar, Andagalore Gate, Rasipuram, Namakkal District – 637401.\n",
      "---------------------------------------------------\n",
      "Thiru. D.J.RAJENDRAN – Proprietor, M/s. Vijaya Sree Constructions, 139, Cherry Road, Kumarasammypatti, Salem – 636007.\n",
      "---------------------------------------------------\n",
      "M/s. SHREE RAJAGANAPATHY FOUNDATION, No.7/3, Udayappa Chettiar Colony, Cherry Road, Hasthampatty, Salem – 636007.\n",
      "---------------------------------------------------\n"
     ]
    }
   ],
   "source": [
    "for i in range(0,n):\n",
    "    print(comp_city.iloc[i]['NAME AND ADDRESS OF THE PROMOTER'])\n",
    "    print('---------------------------------------------------')"
   ]
  },
  {
   "cell_type": "code",
   "execution_count": 16,
   "metadata": {},
   "outputs": [
    {
     "name": "stdout",
     "output_type": "stream",
     "text": [
      "Project Name: \"Mirdhu Inn Phase-I\" - Construction of Stilt Floor + 3 Floors  with 34 Dwellings + 2 Duplex Dwellings by reconstituting the Plot Nos.132, 133, 134, 140, 141, 142 of approved layout LP/DTCP No.34/2011 comprised in Ward No.AK, Block No.1, T.S. No.15/3, 17/4, 19 part, 20/2, 21/1 part, 3 part, 4, 22/2, 3, 4 part, 23/1, 2, 36/1, 2, 3, 4, 5, 37/1, 2, 3, 38/1, 2, 3, 4 part 5, 6, 7, 8, 11, 40/1 part, 3 part, Block – 10, T.S. No.2 part, 3, 4, 8/2 part, 4 part, 5, 9/2 part, 4, 10/1, 2 part, 3 part, 11 part, 12, 13, 14/2, 3, 4, 15/1, 2, 3, 16 part, Block No.9, T.S.No.7 of Ammapettai Village, Salem Taluk, Salem District.\n",
      "---------------------------------------------------\n",
      "Project Name: “Mirdhu Inn Phase-II” - Construction of Unsold flats of 6 Nos in Stilt Floor + 4 Floors Residential apartments building located by combining the Plot Nos.130, 131, 143 and 144 of approved layout LP/DTCP No.34/2011 in Ward No.AK, Block No.1, T.S. No.15/3, 17/4, 19 part, 20/2, 21/1 part, 21/3 part, 4, 22/2, 3, 4 part, 23/1, 2, 36/1, 2, 3, 4, 5, 37/1, 2, 3, 38/1, 2, 3, 4 part 5, 6, 7, 8, 11, 40/1 part, 3 part, Block-10, T.S. No.2 part, 3, 4, 8/2 part, 4 part, 5, 9/2 part, 4, 10/1, 2 part, 3 part, 11 part, 12, 13, 14/2, 3, 4, 15/1, 2, 3, 16 part, Block No.9, T.S.No.7, Varma City, Ammapet Village, Salem City Municipal Corporation.\n",
      "---------------------------------------------------\n",
      "Construction of Phase-I – Block ‘D’ – Tower-I – Stilt floor + First floor-cum-Podium level + 2nd Floor to 9th Floor with 6 dwelling in each floor totaling 54 dwelling units. Tower – II – Stilt floor + First floor-cum-Podium level + 2nd Floor to 9th Floor with 3 dwelling in each floor totaling 27 dwelling units. Block ‘E’ – Tower – I - Stilt floor + First floor-cum-Podium level + 2nd Floor to 9th Floor with 6 dwelling in each floor totaling 54 dwelling units. Tower – II - – Stilt floor + First floor-cum-Podium level + 2nd Floor to 9th Floor with 3 dwelling in each floor totaling 27 dwelling units. Individual Villa ‘B’ Type Block of 9 Nos. with Ground Floor + First Floor of 4 dwelling unit in each block, Block – A – Tower – I – Stilt floor + First floor-cum-Podium level + 2nd Floor to 9th Floor with 6 dwelling in each floor totaling 54 dwelling units. Block – B – Tower – I - – Stilt floor + First floor-cum-Podium level + 2nd Floor to 9th Floor with 6 dwelling in each floor totaling 54 dwelling units, comprised in S.Nos.177/1, 2B, 2C, 2D, 177/3, 178, 179, 180/7, 180/8 of Kondappanaickanpatti Village & Panchayat, Salem Taluk, Salem District.\n",
      "---------------------------------------------------\n",
      "Construction of Stilt floor + 4 floors residential building with 12 dwelling units at Plot No.2 part, 3 and 4 part comprised in Old S.No.29/1B part, T.S.No.15/6, 7, 8, 9, 10, Block No.42, New Wad No.A, Jaggir Amma Palayam Village, Salem City Municipal Corporation.\n",
      "---------------------------------------------------\n",
      "Project Name: “Mahaveer Palace Apartment” - Construction of Group Development – Block A – Stilt floor + 4 Floors residential building with 80 dwelling units, Block – B – Stilt floor + 4 floors residential building with 32 dwelling units, Block – C – Stilt floor + 4 floors residential building with 48 dwelling units (Total 160 dwelling units) and Block – D – Ground floor + 1st Floor with Swimming Pool, Association Room and Gym at T.S.No.35/3A1, 3A2, 3A3, 3A4, 3A5, 3A6, 3A7, 3A8, 3A9, 3A10, 3A11, 35/5 & 35/6, Block No.15, Ward – AH, Kitchipalayam Village, Salem.\n",
      "---------------------------------------------------\n",
      "Construction of Stilt floor + 4 floors residential building with 16 dwelling units at T.S.No.3/1, 3/2, Block No.43, New Ward – J, Lakshmipuram, Gandhi Road, Salem.\n",
      "---------------------------------------------------\n"
     ]
    }
   ],
   "source": [
    "for i in range(0,n):\n",
    "    print(comp_city.iloc[i]['PROJECT DETAILS AND ADDRESS'])\n",
    "    print('---------------------------------------------------')"
   ]
  },
  {
   "cell_type": "code",
   "execution_count": 26,
   "metadata": {},
   "outputs": [
    {
     "name": "stdout",
     "output_type": "stream",
     "text": [
      "TN/07/Building/0228/2019 dated 13/12/2019\n",
      "TN/07/Building/0235/2019 dated 19/12/2019\n",
      "TN/07/Building/0073/2018 dated 28/02/2018\n",
      "TN/07/Building/0211/2018 dated 28/06/2018\n",
      "TN/07/Building/0332/2018 dated 08/11/2018\n",
      "TN/07/Building/0334/2018 dated 12/11/2018\n"
     ]
    }
   ],
   "source": [
    "for i in range(0,n):\n",
    "    print(comp_city.iloc[i]['PROJECT REGISTRATION NO.'])\n"
   ]
  },
  {
   "cell_type": "code",
   "execution_count": null,
   "metadata": {},
   "outputs": [],
   "source": []
  }
 ],
 "metadata": {
  "kernelspec": {
   "display_name": "Python 3",
   "language": "python",
   "name": "python3"
  },
  "language_info": {
   "codemirror_mode": {
    "name": "ipython",
    "version": 3
   },
   "file_extension": ".py",
   "mimetype": "text/x-python",
   "name": "python",
   "nbconvert_exporter": "python",
   "pygments_lexer": "ipython3",
   "version": "3.7.4"
  }
 },
 "nbformat": 4,
 "nbformat_minor": 2
}
